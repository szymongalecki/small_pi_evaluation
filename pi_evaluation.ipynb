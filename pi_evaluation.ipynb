{
 "cells": [
  {
   "attachments": {},
   "cell_type": "markdown",
   "metadata": {},
   "source": [
    "#### How to calculate π, which is as accurate as math.pi?"
   ]
  },
  {
   "cell_type": "code",
   "execution_count": 65,
   "metadata": {},
   "outputs": [
    {
     "data": {
      "text/plain": [
       "3.141592653589793"
      ]
     },
     "execution_count": 65,
     "metadata": {},
     "output_type": "execute_result"
    }
   ],
   "source": [
    "import math, random\n",
    "math.pi"
   ]
  },
  {
   "cell_type": "code",
   "execution_count": 66,
   "metadata": {},
   "outputs": [],
   "source": [
    "def correct(calculated: float) -> float:\n",
    "    correct = \"\"\n",
    "    for a, b in zip(str(calculated), str(math.pi)):\n",
    "        if a == b:\n",
    "            correct += a\n",
    "        else:\n",
    "            break\n",
    "    if correct:\n",
    "        return float(correct)\n",
    "    return 0.0"
   ]
  },
  {
   "attachments": {},
   "cell_type": "markdown",
   "metadata": {},
   "source": [
    "##### Leibniz formula for π\n",
    "${\\displaystyle 1-{\\frac {1}{3}}+{\\frac {1}{5}}-{\\frac {1}{7}}+{\\frac {1}{9}}-\\cdots ={\\frac {\\pi }{4}}}$\n",
    "\n",
    "\n",
    "ref: https://en.wikipedia.org/wiki/Leibniz_formula_for_%CF%80"
   ]
  },
  {
   "cell_type": "code",
   "execution_count": 67,
   "metadata": {},
   "outputs": [],
   "source": [
    "def leibniz(terms: int) -> float:\n",
    "    pi = 0\n",
    "    numerator = 4\n",
    "    denominator = 1\n",
    "    for i in range(terms):\n",
    "        if i % 2 == 0:\n",
    "            pi += numerator / denominator\n",
    "        else:\n",
    "            pi -= numerator / denominator\n",
    "        denominator += 2\n",
    "    return pi"
   ]
  },
  {
   "cell_type": "code",
   "execution_count": 68,
   "metadata": {},
   "outputs": [
    {
     "name": "stdout",
     "output_type": "stream",
     "text": [
      "terms - 10\t\t correct: 3.0\n",
      "terms - 1,000\t\t correct: 3.14\n",
      "terms - 1,000,000\t correct: 3.14159\n",
      "\n"
     ]
    }
   ],
   "source": [
    "print(f\"terms - 10\\t\\t correct: {correct(leibniz(10))}\")\n",
    "print(f\"terms - 1,000\\t\\t correct: {correct(leibniz(1_000))}\")\n",
    "print(f\"terms - 1,000,000\\t correct: {correct(leibniz(1_000_000))}\\n\")"
   ]
  },
  {
   "attachments": {},
   "cell_type": "markdown",
   "metadata": {},
   "source": [
    "##### Monte Carlo integration\n",
    "$ {\\pi } = {\\frac {\\textrm{points inside circle}}{\\textrm{all points}}} $  \n",
    "ref: https://en.wikipedia.org/wiki/Monte_Carlo_integration"
   ]
  },
  {
   "cell_type": "code",
   "execution_count": 69,
   "metadata": {},
   "outputs": [],
   "source": [
    "def monte_carlo(points: int) -> float:\n",
    "    inside_circle = 0\n",
    "    for _ in range(points):\n",
    "        x = random.uniform(0, 1)\n",
    "        y = random.uniform(0, 1)\n",
    "        if x * x + y * y <= 1:\n",
    "            inside_circle += 1\n",
    "    return 4 * inside_circle / points"
   ]
  },
  {
   "cell_type": "code",
   "execution_count": 70,
   "metadata": {},
   "outputs": [
    {
     "name": "stdout",
     "output_type": "stream",
     "text": [
      "points - 10\t\t correct: 0.0\n",
      "points - 1,000\t\t correct: 3.0\n",
      "points - 1,000,000\t correct: 3.14\n",
      "\n"
     ]
    }
   ],
   "source": [
    "print(f\"points - 10\\t\\t correct: {correct(monte_carlo(10))}\")\n",
    "print(f\"points - 1,000\\t\\t correct: {correct(monte_carlo(1_000))}\")\n",
    "print(f\"points - 1,000,000\\t correct: {correct(monte_carlo(1_000_000))}\\n\")"
   ]
  },
  {
   "attachments": {},
   "cell_type": "markdown",
   "metadata": {},
   "source": [
    "##### Euler's Machin-like formula\n",
    "${\\frac  {\\pi }{4}}=\\arctan {\\frac  {1}{2}}+\\arctan {\\frac  {1}{3}}$  \n",
    "ref: https://en.wikipedia.org/wiki/Machin-like_formula"
   ]
  },
  {
   "cell_type": "code",
   "execution_count": 71,
   "metadata": {},
   "outputs": [],
   "source": [
    "def machin() -> float:\n",
    "    return 4 * (math.atan(1 / 2) + math.atan(1 / 3))"
   ]
  },
  {
   "cell_type": "code",
   "execution_count": 72,
   "metadata": {},
   "outputs": [
    {
     "name": "stdout",
     "output_type": "stream",
     "text": [
      "identical to math.pi: True\n",
      "\n"
     ]
    }
   ],
   "source": [
    "\n",
    "print(f\"identical to math.pi: {correct(machin()) == math.pi}\\n\")"
   ]
  },
  {
   "attachments": {},
   "cell_type": "markdown",
   "metadata": {},
   "source": [
    "##### Bailey–Borwein–Plouffe formula\n",
    "${\\displaystyle \\pi =\\sum _{k=0}^{\\infty }\\left[{\\frac {1}{16^{k}}}\\left({\\frac {4}{8k+1}}-{\\frac {2}{8k+4}}-{\\frac {1}{8k+5}}-{\\frac {1}{8k+6}}\\right)\\right]}$  \n",
    "ref: https://en.wikipedia.org/wiki/Bailey%E2%80%93Borwein%E2%80%93Plouffe_formula"
   ]
  },
  {
   "cell_type": "code",
   "execution_count": 73,
   "metadata": {},
   "outputs": [],
   "source": [
    "def bbp(K: int) -> float:\n",
    "    pi = 0\n",
    "    for k in range(K):\n",
    "        pi += (1 / 16 ** k) * (\n",
    "            (4 / (8 * k + 1))\n",
    "            - (2 / (8 * k + 4))\n",
    "            - (1 / (8 * k + 5))\n",
    "            - (1 / (8 * k + 6))\n",
    "        )\n",
    "    return pi"
   ]
  },
  {
   "cell_type": "code",
   "execution_count": 74,
   "metadata": {},
   "outputs": [
    {
     "name": "stdout",
     "output_type": "stream",
     "text": [
      "terms - 10\t\t correct: 3.14159265358979\n",
      "terms - 11\t\t identical to math.pi: True\n",
      "\n"
     ]
    }
   ],
   "source": [
    "print(f\"terms - 10\\t\\t correct: {correct(bbp(10))}\")\n",
    "print(f\"terms - 11\\t\\t identical to math.pi: {correct(bbp(11)) == math.pi}\\n\")"
   ]
  },
  {
   "attachments": {},
   "cell_type": "markdown",
   "metadata": {},
   "source": [
    "##### Summary\n",
    "Leibniz formula converges extremely slow, only 5 decimal digits are correct after summing $10^6$ terms.\n",
    "\n",
    "Monte Carlo integration is non-deterministic since it depends on the random points distribution. It doesn't necessarily converge and even with $10^6$ points I didn't observe it outperform Leibnitz.\n",
    "\n",
    "Machin-like formula was the most straightforward way for calculating π but it uses the math library for trigonometry, which in turn uses π behind the scenes. \n",
    "\n",
    "Bailey-Borwein-Plouffe formula converges way faster than Leibnitz and yields π equal to math.pi after summing just 11 terms.\n",
    "\n",
    "All above calculation methods are strictly limited by the precison of float numbers: https://en.wikipedia.org/wiki/IEEE_754\n",
    "\n",
    "This small piece of work was inspired by failing to complete this task:\n",
    "https://www.codewars.com/kata/6357205000fba205ed189a52/python"
   ]
  },
  {
   "attachments": {},
   "cell_type": "markdown",
   "metadata": {},
   "source": [
    "##### Calculating π with higher precision:\n",
    "- https://gavalas.dev/blog/spigot-algorithms-for-pi-in-python/\n",
    "- https://www.craig-wood.com/nick/articles/pi-chudnovsky/\n",
    "- https://giordano.github.io/blog/2017-11-21-hexadecimal-pi/\n",
    "- https://observablehq.com/@rreusser/computing-with-the-bailey-borwein-plouffe-formula"
   ]
  }
 ],
 "metadata": {
  "kernelspec": {
   "display_name": "Python 3",
   "language": "python",
   "name": "python3"
  },
  "language_info": {
   "codemirror_mode": {
    "name": "ipython",
    "version": 3
   },
   "file_extension": ".py",
   "mimetype": "text/x-python",
   "name": "python",
   "nbconvert_exporter": "python",
   "pygments_lexer": "ipython3",
   "version": "3.10.1"
  },
  "orig_nbformat": 4,
  "vscode": {
   "interpreter": {
    "hash": "aee8b7b246df8f9039afb4144a1f6fd8d2ca17a180786b69acc140d282b71a49"
   }
  }
 },
 "nbformat": 4,
 "nbformat_minor": 2
}
